{
 "cells": [
  {
   "cell_type": "code",
   "execution_count": 1,
   "id": "317a5b47-f820-4962-a0d6-eec439f82b22",
   "metadata": {},
   "outputs": [],
   "source": [
    "from sklearn.datasets import load_digits\n",
    "from sklearn.model_selection import train_test_split\n",
    "from sklearn import linear_model\n",
    "from sklearn.metrics import classification_report\n",
    "from sklearn.metrics import confusion_matrix\n",
    "\n",
    "import seaborn as sns\n",
    "\n",
    "import matplotlib.pyplot as plt"
   ]
  },
  {
   "cell_type": "code",
   "execution_count": 2,
   "id": "23afc99b-8869-4cac-9224-99c6986a266e",
   "metadata": {},
   "outputs": [],
   "source": [
    "digits = load_digits()"
   ]
  },
  {
   "cell_type": "markdown",
   "id": "1cee223a-d4a7-44c3-b895-2b659276729d",
   "metadata": {},
   "source": [
    "### VISUALITZACIÓ D'UN EXEMPLE DE LES DADES"
   ]
  },
  {
   "cell_type": "code",
   "execution_count": 3,
   "id": "2b5b2fa8-cf3b-437b-98c2-e6dd6e3aa649",
   "metadata": {},
   "outputs": [
    {
     "data": {
      "text/plain": [
       "<Figure size 640x480 with 0 Axes>"
      ]
     },
     "metadata": {},
     "output_type": "display_data"
    },
    {
     "data": {
      "image/png": "[encoded data removed]",
      "text/plain": [
       "<Figure size 480x480 with 1 Axes>"
      ]
     },
     "metadata": {},
     "output_type": "display_data"
    }
   ],
   "source": [
    "plt.gray() \n",
    "plt.matshow(digits.images[0]) \n",
    "plt.show()"
   ]
  },
  {
   "cell_type": "markdown",
   "id": "91638bf6-80a8-4cfc-993a-52c54b43e82c",
   "metadata": {},
   "source": [
    "### DIVISIÓ ENTRE TRAIN I TEST"
   ]
  },
  {
   "cell_type": "code",
   "execution_count": 4,
   "id": "ff7bcacc-6819-4a79-8e91-c987b42f78e0",
   "metadata": {},
   "outputs": [],
   "source": [
    "X = digits.data\n",
    "y = digits.target\n",
    "X_train, X_test, y_train, y_test = train_test_split(X, y, test_size=0.2, random_state=42)"
   ]
  },
  {
   "cell_type": "markdown",
   "id": "ee87e873-3a2f-40e4-911c-7c1b233d75c4",
   "metadata": {},
   "source": [
    "# PERCEPTRÓ"
   ]
  },
  {
   "cell_type": "code",
   "execution_count": 5,
   "id": "7d92b854-7556-4832-acbe-b8d1cb0a6f05",
   "metadata": {},
   "outputs": [],
   "source": [
    "perceptron = linear_model.Perceptron(tol=1e-9, random_state=42)\n",
    "perceptron.fit(X_train, y_train);\n",
    "y_pred = perceptron.predict(X_test)"
   ]
  },
  {
   "cell_type": "markdown",
   "id": "b7325316-2e9e-44b9-ac37-78b6d5dd1b35",
   "metadata": {},
   "source": [
    "### RENDIMENT"
   ]
  },
  {
   "cell_type": "code",
   "execution_count": 6,
   "id": "efcb78d8-a9cc-4cfd-a9fd-12fbbb1ef7c5",
   "metadata": {},
   "outputs": [
    {
     "name": "stdout",
     "output_type": "stream",
     "text": [
      "              precision    recall  f1-score   support\n",
      "\n",
      "           0       0.97      1.00      0.99        33\n",
      "           1       0.78      1.00      0.88        28\n",
      "           2       0.97      0.94      0.95        33\n",
      "           3       1.00      0.94      0.97        34\n",
      "           4       1.00      0.98      0.99        46\n",
      "           5       0.98      0.89      0.93        47\n",
      "           6       0.97      0.97      0.97        35\n",
      "           7       1.00      0.97      0.99        34\n",
      "           8       0.90      0.90      0.90        30\n",
      "           9       0.93      0.93      0.93        40\n",
      "\n",
      "    accuracy                           0.95       360\n",
      "   macro avg       0.95      0.95      0.95       360\n",
      "weighted avg       0.95      0.95      0.95       360\n",
      "\n"
     ]
    }
   ],
   "source": [
    "print(classification_report(y_test, y_pred))"
   ]
  },
  {
   "cell_type": "markdown",
   "id": "ca72ae26-7ad9-4440-994a-71c56555080a",
   "metadata": {},
   "source": [
    "### MATRIU DE CONFUSIÓ"
   ]
  },
  {
   "cell_type": "code",
   "execution_count": 8,
   "id": "cd1fe20e-eec1-4346-ad58-00b204b915df",
   "metadata": {},
   "outputs": [
    {
     "ename": "TypeError",
     "evalue": "'numpy.ndarray' object is not callable",
     "output_type": "error",
     "traceback": [
      "\u001b[0;31m---------------------------------------------------------------------------\u001b[0m",
      "\u001b[0;31mTypeError\u001b[0m                                 Traceback (most recent call last)",
      "Cell \u001b[0;32mIn[8], line 1\u001b[0m\n\u001b[0;32m----> 1\u001b[0m confusion_matrix \u001b[38;5;241m=\u001b[39m \u001b[43mconfusion_matrix\u001b[49m\u001b[43m(\u001b[49m\u001b[43my_test\u001b[49m\u001b[43m,\u001b[49m\u001b[43m \u001b[49m\u001b[43my_pred\u001b[49m\u001b[43m)\u001b[49m\n\u001b[1;32m      2\u001b[0m cm_display\u001b[38;5;241m.\u001b[39mplot()\n\u001b[1;32m      3\u001b[0m plt\u001b[38;5;241m.\u001b[39mshow()\n",
      "\u001b[0;31mTypeError\u001b[0m: 'numpy.ndarray' object is not callable"
     ]
    }
   ],
   "source": [
    "confusion_matrix = confusion_matrix(y_test, y_pred)\n",
    "cm_display.plot()\n",
    "plt.show()"
   ]
  },
  {
   "cell_type": "code",
   "execution_count": null,
   "id": "40362659-3555-4ab1-98c7-3bca7ea9ce0a",
   "metadata": {},
   "outputs": [],
   "source": []
  }
 ],
 "metadata": {
  "kernelspec": {
   "display_name": "Python 3 (ipykernel)",
   "language": "python",
   "name": "python3"
  },
  "language_info": {
   "codemirror_mode": {
    "name": "ipython",
    "version": 3
   },
   "file_extension": ".py",
   "mimetype": "text/x-python",
   "name": "python",
   "nbconvert_exporter": "python",
   "pygments_lexer": "ipython3",
   "version": "3.11.5"
  }
 },
 "nbformat": 4,
 "nbformat_minor": 5
}
